{
 "cells": [
  {
   "cell_type": "code",
   "execution_count": null,
   "metadata": {
    "vscode": {
     "languageId": "plaintext"
    }
   },
   "outputs": [],
   "source": [
    "import re\n",
    "import matplotlib.pyplot as plt\n",
    "\n",
    "# 1. 从文件中读取数据\n",
    "file_path = 'fg_600.txt'  # 替换为你的文件路径\n",
    "\n",
    "iter_nums = []  # 存储迭代次数\n",
    "zo_losses = []  # 存储ZO loss\n",
    "\n",
    "# 2. 打开文件并读取每行数据\n",
    "with open(file_path, 'r') as file:\n",
    "    for line in file:\n",
    "        # 3. 使用正则表达式提取Iter和ZO loss\n",
    "        match = re.match(r\"Iter (\\d+)/\\d+, ZO loss=([0-9.]+)\", line)\n",
    "        \n",
    "        if match:\n",
    "            iter_num = int(match.group(1))\n",
    "            zo_loss = float(match.group(2))\n",
    "\n",
    "            # 4. 如果是Iter 0/599，表示新的曲线开始，先绘制当前收集的数据\n",
    "            if iter_num == 0 and iter_nums:\n",
    "                # 绘制当前收集的曲线\n",
    "                plt.plot(iter_nums, zo_losses, label=f'Iteration Group {len(iter_nums)}', marker='o')\n",
    "                plt.xlabel('Iteration')\n",
    "                plt.ylabel('ZO loss')\n",
    "                plt.title('Loss Curve')\n",
    "                plt.grid(True)\n",
    "                iter_nums = []  # 清空之前的迭代次数\n",
    "                zo_losses = []  # 清空之前的损失值\n",
    "            \n",
    "            # 收集新的数据\n",
    "            iter_nums.append(iter_num)\n",
    "            zo_losses.append(zo_loss)\n",
    "\n",
    "    # 5. 绘制最后一组曲线（防止文件以最后的Iter 0/599结束而没有绘制）\n",
    "    if iter_nums:\n",
    "        plt.plot(iter_nums, zo_losses, label=f'Iteration Group {len(iter_nums)}', marker='o')\n",
    "\n",
    "# 6. 显示所有曲线\n",
    "plt.legend()\n",
    "\n",
    "# 保存图像到指定文件路径\n",
    "plt.savefig('loss_curve.pdf')\n",
    "\n",
    "plt.show()\n"
   ]
  }
 ],
 "metadata": {
  "language_info": {
   "name": "python"
  }
 },
 "nbformat": 4,
 "nbformat_minor": 2
}
